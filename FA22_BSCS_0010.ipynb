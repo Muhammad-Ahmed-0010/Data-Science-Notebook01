{
  "nbformat": 4,
  "nbformat_minor": 0,
  "metadata": {
    "colab": {
      "provenance": []
    },
    "kernelspec": {
      "name": "python3",
      "display_name": "Python 3"
    },
    "language_info": {
      "name": "python"
    }
  },
  "cells": [
    {
      "cell_type": "markdown",
      "source": [
        "# Data Science Tools and Ecosystem"
      ],
      "metadata": {
        "id": "af522A1yN09n"
      }
    },
    {
      "cell_type": "markdown",
      "source": [
        "## Introduction\n",
        "This notebook explores Data Science tools, languages, and libraries. It includes examples of arithmetic operations and unit conversions."
      ],
      "metadata": {
        "id": "h4sbQ9UXN9t_"
      }
    },
    {
      "cell_type": "markdown",
      "source": [
        "## Data Science Languages\n",
        "- Python\n",
        "- R\n",
        "- SQL\n",
        "- Julia\n",
        "- Scala"
      ],
      "metadata": {
        "id": "J9wdtFZXOA2W"
      }
    },
    {
      "cell_type": "markdown",
      "source": [
        "## Data Science Libraries\n",
        "- NumPy\n",
        "- Pandas\n",
        "- Matplotlib\n",
        "- Scikit-learn\n",
        "- TensorFlow"
      ],
      "metadata": {
        "id": "KmUZQ0CNOHCX"
      }
    },
    {
      "cell_type": "markdown",
      "source": [
        "## Data Science Tools\n",
        "| Tool | Description |\n",
        "|------|-------------|\n",
        "| Jupyter Notebook | Interactive coding environment |\n",
        "| RStudio | IDE for R programming |\n",
        "| Apache Spark | Big data processing |\n",
        "| Tableau | Data visualization tool |\n",
        "| GitHub | Version control platform |"
      ],
      "metadata": {
        "id": "U15zYLrQOIW9"
      }
    },
    {
      "cell_type": "markdown",
      "source": [
        "## Arithmetic Expression Examples\n",
        "Below are examples of multiplication and addition in Python."
      ],
      "metadata": {
        "id": "SLZ_6AxYOMkO"
      }
    },
    {
      "cell_type": "code",
      "source": [
        "# Multiply and add numbers\n",
        "a = 3\n",
        "b = 4\n",
        "print(f\"Multiplication: {a} * {b} = {a * b}\")\n",
        "print(f\"Addition: {a} + {b} = {a + b}\")"
      ],
      "metadata": {
        "colab": {
          "base_uri": "https://localhost:8080/"
        },
        "id": "yGOm9pD5ODDy",
        "outputId": "238d2b79-48d6-4c6a-f896-316a9e750a47"
      },
      "execution_count": 2,
      "outputs": [
        {
          "output_type": "stream",
          "name": "stdout",
          "text": [
            "Multiplication: 3 * 4 = 12\n",
            "Addition: 3 + 4 = 7\n"
          ]
        }
      ]
    },
    {
      "cell_type": "code",
      "source": [
        "# Convert minutes to hours\n",
        "minutes = 120\n",
        "hours = minutes / 60\n",
        "print(f\"{minutes} minutes is equal to {hours} hours\")"
      ],
      "metadata": {
        "colab": {
          "base_uri": "https://localhost:8080/"
        },
        "id": "0vfFxiCaORQk",
        "outputId": "a5fddeba-49f5-40e6-9029-9b7430d0f1e0"
      },
      "execution_count": 3,
      "outputs": [
        {
          "output_type": "stream",
          "name": "stdout",
          "text": [
            "120 minutes is equal to 2.0 hours\n"
          ]
        }
      ]
    },
    {
      "cell_type": "markdown",
      "source": [
        "## Objectives\n",
        "- Learn Data Science languages.\n",
        "- Explore Data Science libraries and tools.\n",
        "- Perform arithmetic operations in Python.\n",
        "- Convert minutes to hours.\n",
        "- Create a structured notebook."
      ],
      "metadata": {
        "id": "y5SJ6u0COc5P"
      }
    },
    {
      "cell_type": "markdown",
      "source": [
        "## Author\n",
        "Name: [Muhammad Ahmed]"
      ],
      "metadata": {
        "id": "iMTlMzmSOlO_"
      }
    }
  ]
}